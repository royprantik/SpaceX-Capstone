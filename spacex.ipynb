{
 "cells": [
  {
   "cell_type": "code",
   "execution_count": null,
   "metadata": {},
   "outputs": [],
   "source": [
    "#data collection through APIs\n",
    "import numpy as np\n",
    "import requests\n",
    "import pandas as pd\n",
    "import datetime\n",
    "from time import sleep\n",
    "\n",
    "class SpaceXDataExtractor:\n",
    "    def __init__(self, static_json_url):\n",
    "        self.static_json_url = static_json_url\n",
    "        self.df = None\n",
    "\n",
    "    def load_base_data(self):\n",
    "        # Load static JSON data from IBM server\n",
    "        response = requests.get(self.static_json_url)\n",
    "        if response.status_code != 200:\n",
    "            raise Exception(\"Failed to fetch base data\")\n",
    "        data = response.json()\n",
    "        self.df = pd.json_normalize(data)\n",
    "\n",
    "        # Subset required columns\n",
    "        self.df = self.df[['rocket', 'payloads', 'launchpad', 'cores', 'flight_number', 'date_utc']]\n",
    "\n",
    "        # Clean cores and payloads\n",
    "        self.df = self.df[self.df['cores'].map(len) == 1]\n",
    "        self.df = self.df[self.df['payloads'].map(len) == 1]\n",
    "        self.df['cores'] = self.df['cores'].map(lambda x: x[0])\n",
    "        self.df['payloads'] = self.df['payloads'].map(lambda x: x[0])\n",
    "\n",
    "        # Parse date\n",
    "        self.df['date'] = pd.to_datetime(self.df['date_utc']).dt.date\n",
    "\n",
    "        # Filter date\n",
    "        self.df = self.df[self.df['date'] <= datetime.date(2020, 11, 13)]\n",
    "\n",
    "    def api_enrich(self, ids, endpoint, attribute):\n",
    "        enriched_data = []\n",
    "        for item_id in ids:\n",
    "            url = f\"https://api.spacexdata.com/v4/{endpoint}/{item_id}\"\n",
    "            try:\n",
    "                response = requests.get(url)\n",
    "                if response.status_code == 200:\n",
    "                    data = response.json()\n",
    "                    enriched_data.append(data.get(attribute))\n",
    "                else:\n",
    "                    enriched_data.append(None)\n",
    "            except Exception as e:\n",
    "                enriched_data.append(None)\n",
    "            sleep(0.1)  # slight delay to avoid hitting API too fast\n",
    "        return enriched_data\n",
    "\n",
    "    def enrich_all(self):\n",
    "        self.df['BoosterVersion'] = self.api_enrich(self.df['rocket'], \"rockets\", \"name\")\n",
    "        self.df['LaunchSite'] = self.api_enrich(self.df['launchpad'], \"launchpads\", \"name\")\n",
    "        self.df['Longitude'] = self.api_enrich(self.df['launchpad'], \"launchpads\", \"longitude\")\n",
    "        self.df['Latitude'] = self.api_enrich(self.df['launchpad'], \"launchpads\", \"latitude\")\n",
    "        self.df['PayloadMass'] = self.api_enrich(self.df['payloads'], \"payloads\", \"mass_kg\")\n",
    "        self.df['Orbit'] = self.api_enrich(self.df['payloads'], \"payloads\", \"orbit\")\n",
    "\n",
    "        # Core data enrichment separately because nested structure\n",
    "        self.get_core_data()\n",
    "\n",
    "    def get_core_data(self):\n",
    "        blocks, reused_counts, serials, outcomes, flights, gridfins, reuseds, legs, landingpads = [], [], [], [], [], [], [], [], []\n",
    "\n",
    "        for core in self.df['cores']:\n",
    "            try:\n",
    "                response = requests.get(f\"https://api.spacexdata.com/v4/cores/{core}\")\n",
    "                if response.status_code == 200:\n",
    "                    data = response.json()\n",
    "                    blocks.append(data.get(\"block\"))\n",
    "                    reused_counts.append(data.get(\"reuse_count\"))\n",
    "                    serials.append(data.get(\"serial\"))\n",
    "                else:\n",
    "                    blocks.append(None)\n",
    "                    reused_counts.append(None)\n",
    "                    serials.append(None)\n",
    "            except Exception as e:\n",
    "                blocks.append(None)\n",
    "                reused_counts.append(None)\n",
    "                serials.append(None)\n",
    "\n",
    "        # Now extract directly from original dataframe cores field\n",
    "        for row in self.df['cores']:\n",
    "            outcomes.append(str(row.get('landing_success')) + \" \" + str(row.get('landing_type')))\n",
    "            flights.append(row.get('flight'))\n",
    "            gridfins.append(row.get('gridfins'))\n",
    "            reuseds.append(row.get('reused'))\n",
    "            legs.append(row.get('legs'))\n",
    "            landingpads.append(row.get('landpad'))\n",
    "\n",
    "        self.df['Block'] = blocks\n",
    "        self.df['ReusedCount'] = reused_counts\n",
    "        self.df['Serial'] = serials\n",
    "        self.df['Outcome'] = outcomes\n",
    "        self.df['Flights'] = flights\n",
    "        self.df['GridFins'] = gridfins\n",
    "        self.df['Reused'] = reuseds\n",
    "        self.df['Legs'] = legs\n",
    "        self.df['LandingPad'] = landingpads\n",
    "\n",
    "    def finalize_dataset(self):\n",
    "        # Filter only Falcon 9 launches\n",
    "        falcon9_df = self.df[self.df['BoosterVersion'] == 'Falcon 9'].copy()\n",
    "\n",
    "        # Reset Flight Numbers\n",
    "        falcon9_df.loc[:, 'FlightNumber'] = list(range(1, falcon9_df.shape[0]+1))\n",
    "\n",
    "        # Handle missing PayloadMass\n",
    "        payload_mass_mean = falcon9_df['PayloadMass'].mean()\n",
    "        falcon9_df['PayloadMass'] = falcon9_df['PayloadMass'].fillna(payload_mass_mean)\n",
    "\n",
    "        return falcon9_df\n",
    "\n",
    "    def save_to_csv(self, df, filename=\"dataset_part_1.csv\"):\n",
    "        df.to_csv(filename, index=False)\n",
    "\n",
    "\n",
    "# --- Usage Example ---\n",
    "if __name__ == \"__main__\":\n",
    "    static_json_url = 'https://cf-courses-data.s3.us.cloud-object-storage.appdomain.cloud/IBM-DS0321EN-SkillsNetwork/datasets/API_call_spacex_api.json'\n",
    "\n",
    "    extractor = SpaceXDataExtractor(static_json_url)\n",
    "    extractor.load_base_data()\n",
    "    extractor.enrich_all()\n",
    "    final_df = extractor.finalize_dataset()\n",
    "    extractor.save_to_csv(final_df)\n",
    "    print(final_df.head())\n"
   ]
  },
  {
   "cell_type": "code",
   "execution_count": null,
   "metadata": {},
   "outputs": [],
   "source": [
    "#DATA GATHERING THROUGH WEB SCRABBING\n",
    "import requests\n",
    "import pandas as pd\n",
    "from bs4 import BeautifulSoup\n",
    "import unicodedata\n",
    "\n",
    "class WikipediaTableScraper:\n",
    "    \n",
    "    def __init__(self, url, table_index=0):\n",
    "        self.url = url\n",
    "        self.table_index = table_index\n",
    "        self.soup = None\n",
    "        self.table = None\n",
    "        self.df = None\n",
    "\n",
    "    def fetch_html(self):\n",
    "        response = requests.get(self.url)\n",
    "        if response.status_code != 200:\n",
    "            raise Exception(\"Failed to fetch page\")\n",
    "        self.soup = BeautifulSoup(response.text, 'html.parser')\n",
    "\n",
    "    def extract_table(self):\n",
    "        tables = self.soup.find_all(\"table\", {\"class\": [\"wikitable\", \"sortable\", \"plainrowheaders\", \"collapsible\"]})\n",
    "        if len(tables) <= self.table_index:\n",
    "            raise Exception(\"Table index out of range\")\n",
    "        self.table = tables[self.table_index]\n",
    "\n",
    "    def clean_header(self, header_row):\n",
    "        headers = []\n",
    "        for th in header_row.find_all('th'):\n",
    "            # Clean unwanted tags inside header\n",
    "            for tag in ['br', 'a', 'sup']:\n",
    "                if th.find(tag):\n",
    "                    th.find(tag).extract()\n",
    "            header = ' '.join(th.stripped_strings)\n",
    "            headers.append(header)\n",
    "        return headers\n",
    "\n",
    "    def parse_row(self, row):\n",
    "        cells = row.find_all(['th', 'td'])\n",
    "        values = []\n",
    "        for cell in cells:\n",
    "            # Normalize unicode and remove leading/trailing spaces\n",
    "            text = unicodedata.normalize(\"NFKD\", cell.get_text(strip=True))\n",
    "            values.append(text)\n",
    "        return values\n",
    "\n",
    "    def scrape(self):\n",
    "        self.fetch_html()\n",
    "        self.extract_table()\n",
    "\n",
    "        header_row = self.table.find('tr')\n",
    "        headers = self.clean_header(header_row)\n",
    "\n",
    "        rows_data = []\n",
    "        for row in self.table.find_all('tr')[1:]:\n",
    "            parsed_row = self.parse_row(row)\n",
    "            if parsed_row:  # ignore empty rows\n",
    "                rows_data.append(parsed_row)\n",
    "\n",
    "        self.df = pd.DataFrame(rows_data, columns=headers)\n",
    "        return self.df\n",
    "\n",
    "\n",
    "url = \"https://en.wikipedia.org/w/index.php?title=List_of_Falcon_9_and_Falcon_Heavy_launches&oldid=1027686922\"\n",
    "scraper = WikipediaTableScraper(url, table_index=2)\n",
    "spacex_df = scraper.scrape()\n",
    "\n",
    "print(spacex_df.head())\n"
   ]
  },
  {
   "cell_type": "code",
   "execution_count": null,
   "metadata": {},
   "outputs": [
    {
     "data": {
      "text/plain": [
       "FlightNumber        int64\n",
       "Date               object\n",
       "BoosterVersion     object\n",
       "PayloadMass       float64\n",
       "Orbit              object\n",
       "LaunchSite         object\n",
       "Outcome            object\n",
       "Flights             int64\n",
       "GridFins             bool\n",
       "Reused               bool\n",
       "Legs                 bool\n",
       "LandingPad         object\n",
       "Block             float64\n",
       "ReusedCount         int64\n",
       "Serial             object\n",
       "Longitude         float64\n",
       "Latitude          float64\n",
       "dtype: object"
      ]
     },
     "execution_count": 2,
     "metadata": {},
     "output_type": "execute_result"
    }
   ],
   "source": [
    "#DATA WANGLING OR I SHOULD SAY CLEANING\n",
    "import pandas as pd\n",
    "import numpy as np\n",
    "import numpy as np\n",
    "import pandas as pd\n",
    "import matplotlib.pyplot as plt\n",
    "from sklearn.datasets import load_iris\n",
    "from sklearn.model_selection import train_test_split, GridSearchCV, cross_val_score, StratifiedKFold\n",
    "from sklearn.preprocessing import StandardScaler, OneHotEncoder\n",
    "from sklearn.decomposition import PCA\n",
    "from sklearn.neighbors import KNeighborsClassifier\n",
    "from sklearn.pipeline import Pipeline\n",
    "import seaborn as sns\n",
    "from sklearn.compose import ColumnTransformer\n",
    "from sklearn.impute import SimpleImputer\n",
    "from sklearn.ensemble import RandomForestClassifier\n",
    "from sklearn.linear_model import LogisticRegression\n",
    "from sklearn.metrics import classification_report, confusion_matrix, ConfusionMatrixDisplay\n",
    "\n",
    "# Load the dataset\n",
    "df = pd.read_csv(\"https://cf-courses-data.s3.us.cloud-object-storage.appdomain.cloud/IBM-DS0321EN-SkillsNetwork/datasets/dataset_part_1.csv\")\n",
    "df.dtypes\n",
    "numeric_features =  df.select_dtypes(include=['int64','float64']).columns.tolist()\n",
    "categorial_features = df.select_dtypes(include=['object']).columns.tolist()\n",
    "numeric_transformers = Pipeline(steps=[\n",
    "    ('imputer',SimpleImputer(strategy='median')),\n",
    "    ('scaler', StandardScaler())\n",
    "])\n",
    "categorical_transformer = Pipeline(steps=[\n",
    "    ('imputer', SimpleImputer(strategy='most_frequent')),\n",
    "    ('onehot', OneHotEncoder(handle_unknown='ignore'))\n",
    "])\n",
    "preprocessing = ColumnTransformer(\n",
    "    transformers=[\n",
    "        ('num', numeric_transformers,numeric_features),\n",
    "        ('cat', categorical_transformer,categorial_features)\n",
    "    ]\n",
    ")\n",
    "#Handling the unknown values is done and also done with onehotencoding."
   ]
  },
  {
   "cell_type": "code",
   "execution_count": 8,
   "metadata": {},
   "outputs": [
    {
     "data": {
      "application/vnd.plotly.v1+json": {
       "config": {
        "plotlyServerURL": "https://plot.ly"
       },
       "data": [
        {
         "hovertemplate": "LaunchSite=%{y}<br>FlightNumber=%{x}<extra></extra>",
         "legendgroup": "CCAFS SLC 40",
         "marker": {
          "color": "#636efa",
          "symbol": "circle"
         },
         "mode": "markers",
         "name": "CCAFS SLC 40",
         "orientation": "v",
         "showlegend": true,
         "type": "scatter",
         "x": [
          1,
          2,
          3,
          5,
          6,
          7,
          8,
          9,
          10,
          11,
          12,
          13,
          14,
          15,
          16,
          17,
          19,
          20,
          21,
          22,
          23,
          24,
          25,
          42,
          44,
          45,
          46,
          48,
          49,
          51,
          52,
          53,
          55,
          56,
          60,
          61,
          64,
          65,
          67,
          68,
          69,
          70,
          71,
          72,
          74,
          75,
          76,
          80,
          81,
          82,
          83,
          84,
          85,
          89,
          90
         ],
         "xaxis": "x",
         "y": [
          "CCAFS SLC 40",
          "CCAFS SLC 40",
          "CCAFS SLC 40",
          "CCAFS SLC 40",
          "CCAFS SLC 40",
          "CCAFS SLC 40",
          "CCAFS SLC 40",
          "CCAFS SLC 40",
          "CCAFS SLC 40",
          "CCAFS SLC 40",
          "CCAFS SLC 40",
          "CCAFS SLC 40",
          "CCAFS SLC 40",
          "CCAFS SLC 40",
          "CCAFS SLC 40",
          "CCAFS SLC 40",
          "CCAFS SLC 40",
          "CCAFS SLC 40",
          "CCAFS SLC 40",
          "CCAFS SLC 40",
          "CCAFS SLC 40",
          "CCAFS SLC 40",
          "CCAFS SLC 40",
          "CCAFS SLC 40",
          "CCAFS SLC 40",
          "CCAFS SLC 40",
          "CCAFS SLC 40",
          "CCAFS SLC 40",
          "CCAFS SLC 40",
          "CCAFS SLC 40",
          "CCAFS SLC 40",
          "CCAFS SLC 40",
          "CCAFS SLC 40",
          "CCAFS SLC 40",
          "CCAFS SLC 40",
          "CCAFS SLC 40",
          "CCAFS SLC 40",
          "CCAFS SLC 40",
          "CCAFS SLC 40",
          "CCAFS SLC 40",
          "CCAFS SLC 40",
          "CCAFS SLC 40",
          "CCAFS SLC 40",
          "CCAFS SLC 40",
          "CCAFS SLC 40",
          "CCAFS SLC 40",
          "CCAFS SLC 40",
          "CCAFS SLC 40",
          "CCAFS SLC 40",
          "CCAFS SLC 40",
          "CCAFS SLC 40",
          "CCAFS SLC 40",
          "CCAFS SLC 40",
          "CCAFS SLC 40",
          "CCAFS SLC 40"
         ],
         "yaxis": "y"
        },
        {
         "hovertemplate": "LaunchSite=%{y}<br>FlightNumber=%{x}<extra></extra>",
         "legendgroup": "VAFB SLC 4E",
         "marker": {
          "color": "#EF553B",
          "symbol": "circle"
         },
         "mode": "markers",
         "name": "VAFB SLC 4E",
         "orientation": "v",
         "showlegend": true,
         "type": "scatter",
         "x": [
          4,
          18,
          26,
          34,
          37,
          39,
          43,
          47,
          54,
          57,
          59,
          62,
          66
         ],
         "xaxis": "x",
         "y": [
          "VAFB SLC 4E",
          "VAFB SLC 4E",
          "VAFB SLC 4E",
          "VAFB SLC 4E",
          "VAFB SLC 4E",
          "VAFB SLC 4E",
          "VAFB SLC 4E",
          "VAFB SLC 4E",
          "VAFB SLC 4E",
          "VAFB SLC 4E",
          "VAFB SLC 4E",
          "VAFB SLC 4E",
          "VAFB SLC 4E"
         ],
         "yaxis": "y"
        },
        {
         "hovertemplate": "LaunchSite=%{y}<br>FlightNumber=%{x}<extra></extra>",
         "legendgroup": "KSC LC 39A",
         "marker": {
          "color": "#00cc96",
          "symbol": "circle"
         },
         "mode": "markers",
         "name": "KSC LC 39A",
         "orientation": "v",
         "showlegend": true,
         "type": "scatter",
         "x": [
          27,
          28,
          29,
          30,
          31,
          32,
          33,
          35,
          36,
          38,
          40,
          41,
          50,
          58,
          63,
          73,
          77,
          78,
          79,
          86,
          87,
          88
         ],
         "xaxis": "x",
         "y": [
          "KSC LC 39A",
          "KSC LC 39A",
          "KSC LC 39A",
          "KSC LC 39A",
          "KSC LC 39A",
          "KSC LC 39A",
          "KSC LC 39A",
          "KSC LC 39A",
          "KSC LC 39A",
          "KSC LC 39A",
          "KSC LC 39A",
          "KSC LC 39A",
          "KSC LC 39A",
          "KSC LC 39A",
          "KSC LC 39A",
          "KSC LC 39A",
          "KSC LC 39A",
          "KSC LC 39A",
          "KSC LC 39A",
          "KSC LC 39A",
          "KSC LC 39A",
          "KSC LC 39A"
         ],
         "yaxis": "y"
        }
       ],
       "layout": {
        "height": 500,
        "legend": {
         "title": {
          "text": "LaunchSite"
         },
         "tracegroupgap": 0
        },
        "template": {
         "data": {
          "bar": [
           {
            "error_x": {
             "color": "#2a3f5f"
            },
            "error_y": {
             "color": "#2a3f5f"
            },
            "marker": {
             "line": {
              "color": "#E5ECF6",
              "width": 0.5
             },
             "pattern": {
              "fillmode": "overlay",
              "size": 10,
              "solidity": 0.2
             }
            },
            "type": "bar"
           }
          ],
          "barpolar": [
           {
            "marker": {
             "line": {
              "color": "#E5ECF6",
              "width": 0.5
             },
             "pattern": {
              "fillmode": "overlay",
              "size": 10,
              "solidity": 0.2
             }
            },
            "type": "barpolar"
           }
          ],
          "carpet": [
           {
            "aaxis": {
             "endlinecolor": "#2a3f5f",
             "gridcolor": "white",
             "linecolor": "white",
             "minorgridcolor": "white",
             "startlinecolor": "#2a3f5f"
            },
            "baxis": {
             "endlinecolor": "#2a3f5f",
             "gridcolor": "white",
             "linecolor": "white",
             "minorgridcolor": "white",
             "startlinecolor": "#2a3f5f"
            },
            "type": "carpet"
           }
          ],
          "choropleth": [
           {
            "colorbar": {
             "outlinewidth": 0,
             "ticks": ""
            },
            "type": "choropleth"
           }
          ],
          "contour": [
           {
            "colorbar": {
             "outlinewidth": 0,
             "ticks": ""
            },
            "colorscale": [
             [
              0,
              "#0d0887"
             ],
             [
              0.1111111111111111,
              "#46039f"
             ],
             [
              0.2222222222222222,
              "#7201a8"
             ],
             [
              0.3333333333333333,
              "#9c179e"
             ],
             [
              0.4444444444444444,
              "#bd3786"
             ],
             [
              0.5555555555555556,
              "#d8576b"
             ],
             [
              0.6666666666666666,
              "#ed7953"
             ],
             [
              0.7777777777777778,
              "#fb9f3a"
             ],
             [
              0.8888888888888888,
              "#fdca26"
             ],
             [
              1,
              "#f0f921"
             ]
            ],
            "type": "contour"
           }
          ],
          "contourcarpet": [
           {
            "colorbar": {
             "outlinewidth": 0,
             "ticks": ""
            },
            "type": "contourcarpet"
           }
          ],
          "heatmap": [
           {
            "colorbar": {
             "outlinewidth": 0,
             "ticks": ""
            },
            "colorscale": [
             [
              0,
              "#0d0887"
             ],
             [
              0.1111111111111111,
              "#46039f"
             ],
             [
              0.2222222222222222,
              "#7201a8"
             ],
             [
              0.3333333333333333,
              "#9c179e"
             ],
             [
              0.4444444444444444,
              "#bd3786"
             ],
             [
              0.5555555555555556,
              "#d8576b"
             ],
             [
              0.6666666666666666,
              "#ed7953"
             ],
             [
              0.7777777777777778,
              "#fb9f3a"
             ],
             [
              0.8888888888888888,
              "#fdca26"
             ],
             [
              1,
              "#f0f921"
             ]
            ],
            "type": "heatmap"
           }
          ],
          "heatmapgl": [
           {
            "colorbar": {
             "outlinewidth": 0,
             "ticks": ""
            },
            "colorscale": [
             [
              0,
              "#0d0887"
             ],
             [
              0.1111111111111111,
              "#46039f"
             ],
             [
              0.2222222222222222,
              "#7201a8"
             ],
             [
              0.3333333333333333,
              "#9c179e"
             ],
             [
              0.4444444444444444,
              "#bd3786"
             ],
             [
              0.5555555555555556,
              "#d8576b"
             ],
             [
              0.6666666666666666,
              "#ed7953"
             ],
             [
              0.7777777777777778,
              "#fb9f3a"
             ],
             [
              0.8888888888888888,
              "#fdca26"
             ],
             [
              1,
              "#f0f921"
             ]
            ],
            "type": "heatmapgl"
           }
          ],
          "histogram": [
           {
            "marker": {
             "pattern": {
              "fillmode": "overlay",
              "size": 10,
              "solidity": 0.2
             }
            },
            "type": "histogram"
           }
          ],
          "histogram2d": [
           {
            "colorbar": {
             "outlinewidth": 0,
             "ticks": ""
            },
            "colorscale": [
             [
              0,
              "#0d0887"
             ],
             [
              0.1111111111111111,
              "#46039f"
             ],
             [
              0.2222222222222222,
              "#7201a8"
             ],
             [
              0.3333333333333333,
              "#9c179e"
             ],
             [
              0.4444444444444444,
              "#bd3786"
             ],
             [
              0.5555555555555556,
              "#d8576b"
             ],
             [
              0.6666666666666666,
              "#ed7953"
             ],
             [
              0.7777777777777778,
              "#fb9f3a"
             ],
             [
              0.8888888888888888,
              "#fdca26"
             ],
             [
              1,
              "#f0f921"
             ]
            ],
            "type": "histogram2d"
           }
          ],
          "histogram2dcontour": [
           {
            "colorbar": {
             "outlinewidth": 0,
             "ticks": ""
            },
            "colorscale": [
             [
              0,
              "#0d0887"
             ],
             [
              0.1111111111111111,
              "#46039f"
             ],
             [
              0.2222222222222222,
              "#7201a8"
             ],
             [
              0.3333333333333333,
              "#9c179e"
             ],
             [
              0.4444444444444444,
              "#bd3786"
             ],
             [
              0.5555555555555556,
              "#d8576b"
             ],
             [
              0.6666666666666666,
              "#ed7953"
             ],
             [
              0.7777777777777778,
              "#fb9f3a"
             ],
             [
              0.8888888888888888,
              "#fdca26"
             ],
             [
              1,
              "#f0f921"
             ]
            ],
            "type": "histogram2dcontour"
           }
          ],
          "mesh3d": [
           {
            "colorbar": {
             "outlinewidth": 0,
             "ticks": ""
            },
            "type": "mesh3d"
           }
          ],
          "parcoords": [
           {
            "line": {
             "colorbar": {
              "outlinewidth": 0,
              "ticks": ""
             }
            },
            "type": "parcoords"
           }
          ],
          "pie": [
           {
            "automargin": true,
            "type": "pie"
           }
          ],
          "scatter": [
           {
            "fillpattern": {
             "fillmode": "overlay",
             "size": 10,
             "solidity": 0.2
            },
            "type": "scatter"
           }
          ],
          "scatter3d": [
           {
            "line": {
             "colorbar": {
              "outlinewidth": 0,
              "ticks": ""
             }
            },
            "marker": {
             "colorbar": {
              "outlinewidth": 0,
              "ticks": ""
             }
            },
            "type": "scatter3d"
           }
          ],
          "scattercarpet": [
           {
            "marker": {
             "colorbar": {
              "outlinewidth": 0,
              "ticks": ""
             }
            },
            "type": "scattercarpet"
           }
          ],
          "scattergeo": [
           {
            "marker": {
             "colorbar": {
              "outlinewidth": 0,
              "ticks": ""
             }
            },
            "type": "scattergeo"
           }
          ],
          "scattergl": [
           {
            "marker": {
             "colorbar": {
              "outlinewidth": 0,
              "ticks": ""
             }
            },
            "type": "scattergl"
           }
          ],
          "scattermapbox": [
           {
            "marker": {
             "colorbar": {
              "outlinewidth": 0,
              "ticks": ""
             }
            },
            "type": "scattermapbox"
           }
          ],
          "scatterpolar": [
           {
            "marker": {
             "colorbar": {
              "outlinewidth": 0,
              "ticks": ""
             }
            },
            "type": "scatterpolar"
           }
          ],
          "scatterpolargl": [
           {
            "marker": {
             "colorbar": {
              "outlinewidth": 0,
              "ticks": ""
             }
            },
            "type": "scatterpolargl"
           }
          ],
          "scatterternary": [
           {
            "marker": {
             "colorbar": {
              "outlinewidth": 0,
              "ticks": ""
             }
            },
            "type": "scatterternary"
           }
          ],
          "surface": [
           {
            "colorbar": {
             "outlinewidth": 0,
             "ticks": ""
            },
            "colorscale": [
             [
              0,
              "#0d0887"
             ],
             [
              0.1111111111111111,
              "#46039f"
             ],
             [
              0.2222222222222222,
              "#7201a8"
             ],
             [
              0.3333333333333333,
              "#9c179e"
             ],
             [
              0.4444444444444444,
              "#bd3786"
             ],
             [
              0.5555555555555556,
              "#d8576b"
             ],
             [
              0.6666666666666666,
              "#ed7953"
             ],
             [
              0.7777777777777778,
              "#fb9f3a"
             ],
             [
              0.8888888888888888,
              "#fdca26"
             ],
             [
              1,
              "#f0f921"
             ]
            ],
            "type": "surface"
           }
          ],
          "table": [
           {
            "cells": {
             "fill": {
              "color": "#EBF0F8"
             },
             "line": {
              "color": "white"
             }
            },
            "header": {
             "fill": {
              "color": "#C8D4E3"
             },
             "line": {
              "color": "white"
             }
            },
            "type": "table"
           }
          ]
         },
         "layout": {
          "annotationdefaults": {
           "arrowcolor": "#2a3f5f",
           "arrowhead": 0,
           "arrowwidth": 1
          },
          "autotypenumbers": "strict",
          "coloraxis": {
           "colorbar": {
            "outlinewidth": 0,
            "ticks": ""
           }
          },
          "colorscale": {
           "diverging": [
            [
             0,
             "#8e0152"
            ],
            [
             0.1,
             "#c51b7d"
            ],
            [
             0.2,
             "#de77ae"
            ],
            [
             0.3,
             "#f1b6da"
            ],
            [
             0.4,
             "#fde0ef"
            ],
            [
             0.5,
             "#f7f7f7"
            ],
            [
             0.6,
             "#e6f5d0"
            ],
            [
             0.7,
             "#b8e186"
            ],
            [
             0.8,
             "#7fbc41"
            ],
            [
             0.9,
             "#4d9221"
            ],
            [
             1,
             "#276419"
            ]
           ],
           "sequential": [
            [
             0,
             "#0d0887"
            ],
            [
             0.1111111111111111,
             "#46039f"
            ],
            [
             0.2222222222222222,
             "#7201a8"
            ],
            [
             0.3333333333333333,
             "#9c179e"
            ],
            [
             0.4444444444444444,
             "#bd3786"
            ],
            [
             0.5555555555555556,
             "#d8576b"
            ],
            [
             0.6666666666666666,
             "#ed7953"
            ],
            [
             0.7777777777777778,
             "#fb9f3a"
            ],
            [
             0.8888888888888888,
             "#fdca26"
            ],
            [
             1,
             "#f0f921"
            ]
           ],
           "sequentialminus": [
            [
             0,
             "#0d0887"
            ],
            [
             0.1111111111111111,
             "#46039f"
            ],
            [
             0.2222222222222222,
             "#7201a8"
            ],
            [
             0.3333333333333333,
             "#9c179e"
            ],
            [
             0.4444444444444444,
             "#bd3786"
            ],
            [
             0.5555555555555556,
             "#d8576b"
            ],
            [
             0.6666666666666666,
             "#ed7953"
            ],
            [
             0.7777777777777778,
             "#fb9f3a"
            ],
            [
             0.8888888888888888,
             "#fdca26"
            ],
            [
             1,
             "#f0f921"
            ]
           ]
          },
          "colorway": [
           "#636efa",
           "#EF553B",
           "#00cc96",
           "#ab63fa",
           "#FFA15A",
           "#19d3f3",
           "#FF6692",
           "#B6E880",
           "#FF97FF",
           "#FECB52"
          ],
          "font": {
           "color": "#2a3f5f"
          },
          "geo": {
           "bgcolor": "white",
           "lakecolor": "white",
           "landcolor": "#E5ECF6",
           "showlakes": true,
           "showland": true,
           "subunitcolor": "white"
          },
          "hoverlabel": {
           "align": "left"
          },
          "hovermode": "closest",
          "mapbox": {
           "style": "light"
          },
          "paper_bgcolor": "white",
          "plot_bgcolor": "#E5ECF6",
          "polar": {
           "angularaxis": {
            "gridcolor": "white",
            "linecolor": "white",
            "ticks": ""
           },
           "bgcolor": "#E5ECF6",
           "radialaxis": {
            "gridcolor": "white",
            "linecolor": "white",
            "ticks": ""
           }
          },
          "scene": {
           "xaxis": {
            "backgroundcolor": "#E5ECF6",
            "gridcolor": "white",
            "gridwidth": 2,
            "linecolor": "white",
            "showbackground": true,
            "ticks": "",
            "zerolinecolor": "white"
           },
           "yaxis": {
            "backgroundcolor": "#E5ECF6",
            "gridcolor": "white",
            "gridwidth": 2,
            "linecolor": "white",
            "showbackground": true,
            "ticks": "",
            "zerolinecolor": "white"
           },
           "zaxis": {
            "backgroundcolor": "#E5ECF6",
            "gridcolor": "white",
            "gridwidth": 2,
            "linecolor": "white",
            "showbackground": true,
            "ticks": "",
            "zerolinecolor": "white"
           }
          },
          "shapedefaults": {
           "line": {
            "color": "#2a3f5f"
           }
          },
          "ternary": {
           "aaxis": {
            "gridcolor": "white",
            "linecolor": "white",
            "ticks": ""
           },
           "baxis": {
            "gridcolor": "white",
            "linecolor": "white",
            "ticks": ""
           },
           "bgcolor": "#E5ECF6",
           "caxis": {
            "gridcolor": "white",
            "linecolor": "white",
            "ticks": ""
           }
          },
          "title": {
           "x": 0.05
          },
          "xaxis": {
           "automargin": true,
           "gridcolor": "white",
           "linecolor": "white",
           "ticks": "",
           "title": {
            "standoff": 15
           },
           "zerolinecolor": "white",
           "zerolinewidth": 2
          },
          "yaxis": {
           "automargin": true,
           "gridcolor": "white",
           "linecolor": "white",
           "ticks": "",
           "title": {
            "standoff": 15
           },
           "zerolinecolor": "white",
           "zerolinewidth": 2
          }
         }
        },
        "title": {
         "text": "Flight Number vs Launch Site"
        },
        "width": 900,
        "xaxis": {
         "anchor": "y",
         "domain": [
          0,
          1
         ],
         "title": {
          "text": "FlightNumber"
         }
        },
        "yaxis": {
         "anchor": "x",
         "categoryarray": [
          "KSC LC 39A",
          "VAFB SLC 4E",
          "CCAFS SLC 40"
         ],
         "categoryorder": "array",
         "domain": [
          0,
          1
         ],
         "title": {
          "text": "LaunchSite"
         }
        }
       }
      }
     },
     "metadata": {},
     "output_type": "display_data"
    },
    {
     "data": {
      "application/vnd.plotly.v1+json": {
       "config": {
        "plotlyServerURL": "https://plot.ly"
       },
       "data": [
        {
         "hovertemplate": "LaunchSite=%{x}<br>PayloadMass=%{y}<extra></extra>",
         "legendgroup": "CCAFS SLC 40",
         "marker": {
          "color": "#636efa",
          "symbol": "circle"
         },
         "mode": "markers",
         "name": "CCAFS SLC 40",
         "orientation": "v",
         "showlegend": true,
         "type": "scatter",
         "x": [
          "CCAFS SLC 40",
          "CCAFS SLC 40",
          "CCAFS SLC 40",
          "CCAFS SLC 40",
          "CCAFS SLC 40",
          "CCAFS SLC 40",
          "CCAFS SLC 40",
          "CCAFS SLC 40",
          "CCAFS SLC 40",
          "CCAFS SLC 40",
          "CCAFS SLC 40",
          "CCAFS SLC 40",
          "CCAFS SLC 40",
          "CCAFS SLC 40",
          "CCAFS SLC 40",
          "CCAFS SLC 40",
          "CCAFS SLC 40",
          "CCAFS SLC 40",
          "CCAFS SLC 40",
          "CCAFS SLC 40",
          "CCAFS SLC 40",
          "CCAFS SLC 40",
          "CCAFS SLC 40",
          "CCAFS SLC 40",
          "CCAFS SLC 40",
          "CCAFS SLC 40",
          "CCAFS SLC 40",
          "CCAFS SLC 40",
          "CCAFS SLC 40",
          "CCAFS SLC 40",
          "CCAFS SLC 40",
          "CCAFS SLC 40",
          "CCAFS SLC 40",
          "CCAFS SLC 40",
          "CCAFS SLC 40",
          "CCAFS SLC 40",
          "CCAFS SLC 40",
          "CCAFS SLC 40",
          "CCAFS SLC 40",
          "CCAFS SLC 40",
          "CCAFS SLC 40",
          "CCAFS SLC 40",
          "CCAFS SLC 40",
          "CCAFS SLC 40",
          "CCAFS SLC 40",
          "CCAFS SLC 40",
          "CCAFS SLC 40",
          "CCAFS SLC 40",
          "CCAFS SLC 40",
          "CCAFS SLC 40",
          "CCAFS SLC 40",
          "CCAFS SLC 40",
          "CCAFS SLC 40",
          "CCAFS SLC 40",
          "CCAFS SLC 40"
         ],
         "xaxis": "x",
         "y": [
          6104.959411764706,
          525,
          677,
          3170,
          3325,
          2296,
          1316,
          4535,
          4428,
          2216,
          2395,
          570,
          1898,
          4707,
          2477,
          2034,
          5271,
          3136,
          4696,
          3100,
          2257,
          4600,
          5500,
          2205,
          6104.959411764706,
          4230,
          6092,
          2760,
          350,
          5383.85,
          2410,
          7076,
          5800,
          7060,
          2573,
          4400,
          2482,
          13620,
          2227.7,
          6500,
          15600,
          5000,
          6800,
          15400,
          15600,
          15400,
          1977,
          15400,
          15400,
          3880,
          6104.959411764706,
          15400,
          1600,
          15400,
          3681
         ],
         "yaxis": "y"
        },
        {
         "hovertemplate": "LaunchSite=%{x}<br>PayloadMass=%{y}<extra></extra>",
         "legendgroup": "VAFB SLC 4E",
         "marker": {
          "color": "#EF553B",
          "symbol": "circle"
         },
         "mode": "markers",
         "name": "VAFB SLC 4E",
         "orientation": "v",
         "showlegend": true,
         "type": "scatter",
         "x": [
          "VAFB SLC 4E",
          "VAFB SLC 4E",
          "VAFB SLC 4E",
          "VAFB SLC 4E",
          "VAFB SLC 4E",
          "VAFB SLC 4E",
          "VAFB SLC 4E",
          "VAFB SLC 4E",
          "VAFB SLC 4E",
          "VAFB SLC 4E",
          "VAFB SLC 4E",
          "VAFB SLC 4E",
          "VAFB SLC 4E"
         ],
         "xaxis": "x",
         "y": [
          500,
          553,
          9600,
          9600,
          475,
          9600,
          9600,
          9600,
          9600,
          2800,
          4000,
          9600,
          1425
         ],
         "yaxis": "y"
        },
        {
         "hovertemplate": "LaunchSite=%{x}<br>PayloadMass=%{y}<extra></extra>",
         "legendgroup": "KSC LC 39A",
         "marker": {
          "color": "#00cc96",
          "symbol": "circle"
         },
         "mode": "markers",
         "name": "KSC LC 39A",
         "orientation": "v",
         "showlegend": true,
         "type": "scatter",
         "x": [
          "KSC LC 39A",
          "KSC LC 39A",
          "KSC LC 39A",
          "KSC LC 39A",
          "KSC LC 39A",
          "KSC LC 39A",
          "KSC LC 39A",
          "KSC LC 39A",
          "KSC LC 39A",
          "KSC LC 39A",
          "KSC LC 39A",
          "KSC LC 39A",
          "KSC LC 39A",
          "KSC LC 39A",
          "KSC LC 39A",
          "KSC LC 39A",
          "KSC LC 39A",
          "KSC LC 39A",
          "KSC LC 39A",
          "KSC LC 39A",
          "KSC LC 39A",
          "KSC LC 39A"
         ],
         "xaxis": "x",
         "y": [
          2490,
          5600,
          5300,
          6104.959411764706,
          6070,
          2708,
          3669,
          6761,
          2910,
          4990,
          5200,
          3700,
          3750,
          3000,
          12259,
          6104.959411764706,
          15600,
          15400,
          9525,
          15400,
          15400,
          15400
         ],
         "yaxis": "y"
        }
       ],
       "layout": {
        "height": 500,
        "legend": {
         "title": {
          "text": "LaunchSite"
         },
         "tracegroupgap": 0
        },
        "template": {
         "data": {
          "bar": [
           {
            "error_x": {
             "color": "#2a3f5f"
            },
            "error_y": {
             "color": "#2a3f5f"
            },
            "marker": {
             "line": {
              "color": "#E5ECF6",
              "width": 0.5
             },
             "pattern": {
              "fillmode": "overlay",
              "size": 10,
              "solidity": 0.2
             }
            },
            "type": "bar"
           }
          ],
          "barpolar": [
           {
            "marker": {
             "line": {
              "color": "#E5ECF6",
              "width": 0.5
             },
             "pattern": {
              "fillmode": "overlay",
              "size": 10,
              "solidity": 0.2
             }
            },
            "type": "barpolar"
           }
          ],
          "carpet": [
           {
            "aaxis": {
             "endlinecolor": "#2a3f5f",
             "gridcolor": "white",
             "linecolor": "white",
             "minorgridcolor": "white",
             "startlinecolor": "#2a3f5f"
            },
            "baxis": {
             "endlinecolor": "#2a3f5f",
             "gridcolor": "white",
             "linecolor": "white",
             "minorgridcolor": "white",
             "startlinecolor": "#2a3f5f"
            },
            "type": "carpet"
           }
          ],
          "choropleth": [
           {
            "colorbar": {
             "outlinewidth": 0,
             "ticks": ""
            },
            "type": "choropleth"
           }
          ],
          "contour": [
           {
            "colorbar": {
             "outlinewidth": 0,
             "ticks": ""
            },
            "colorscale": [
             [
              0,
              "#0d0887"
             ],
             [
              0.1111111111111111,
              "#46039f"
             ],
             [
              0.2222222222222222,
              "#7201a8"
             ],
             [
              0.3333333333333333,
              "#9c179e"
             ],
             [
              0.4444444444444444,
              "#bd3786"
             ],
             [
              0.5555555555555556,
              "#d8576b"
             ],
             [
              0.6666666666666666,
              "#ed7953"
             ],
             [
              0.7777777777777778,
              "#fb9f3a"
             ],
             [
              0.8888888888888888,
              "#fdca26"
             ],
             [
              1,
              "#f0f921"
             ]
            ],
            "type": "contour"
           }
          ],
          "contourcarpet": [
           {
            "colorbar": {
             "outlinewidth": 0,
             "ticks": ""
            },
            "type": "contourcarpet"
           }
          ],
          "heatmap": [
           {
            "colorbar": {
             "outlinewidth": 0,
             "ticks": ""
            },
            "colorscale": [
             [
              0,
              "#0d0887"
             ],
             [
              0.1111111111111111,
              "#46039f"
             ],
             [
              0.2222222222222222,
              "#7201a8"
             ],
             [
              0.3333333333333333,
              "#9c179e"
             ],
             [
              0.4444444444444444,
              "#bd3786"
             ],
             [
              0.5555555555555556,
              "#d8576b"
             ],
             [
              0.6666666666666666,
              "#ed7953"
             ],
             [
              0.7777777777777778,
              "#fb9f3a"
             ],
             [
              0.8888888888888888,
              "#fdca26"
             ],
             [
              1,
              "#f0f921"
             ]
            ],
            "type": "heatmap"
           }
          ],
          "heatmapgl": [
           {
            "colorbar": {
             "outlinewidth": 0,
             "ticks": ""
            },
            "colorscale": [
             [
              0,
              "#0d0887"
             ],
             [
              0.1111111111111111,
              "#46039f"
             ],
             [
              0.2222222222222222,
              "#7201a8"
             ],
             [
              0.3333333333333333,
              "#9c179e"
             ],
             [
              0.4444444444444444,
              "#bd3786"
             ],
             [
              0.5555555555555556,
              "#d8576b"
             ],
             [
              0.6666666666666666,
              "#ed7953"
             ],
             [
              0.7777777777777778,
              "#fb9f3a"
             ],
             [
              0.8888888888888888,
              "#fdca26"
             ],
             [
              1,
              "#f0f921"
             ]
            ],
            "type": "heatmapgl"
           }
          ],
          "histogram": [
           {
            "marker": {
             "pattern": {
              "fillmode": "overlay",
              "size": 10,
              "solidity": 0.2
             }
            },
            "type": "histogram"
           }
          ],
          "histogram2d": [
           {
            "colorbar": {
             "outlinewidth": 0,
             "ticks": ""
            },
            "colorscale": [
             [
              0,
              "#0d0887"
             ],
             [
              0.1111111111111111,
              "#46039f"
             ],
             [
              0.2222222222222222,
              "#7201a8"
             ],
             [
              0.3333333333333333,
              "#9c179e"
             ],
             [
              0.4444444444444444,
              "#bd3786"
             ],
             [
              0.5555555555555556,
              "#d8576b"
             ],
             [
              0.6666666666666666,
              "#ed7953"
             ],
             [
              0.7777777777777778,
              "#fb9f3a"
             ],
             [
              0.8888888888888888,
              "#fdca26"
             ],
             [
              1,
              "#f0f921"
             ]
            ],
            "type": "histogram2d"
           }
          ],
          "histogram2dcontour": [
           {
            "colorbar": {
             "outlinewidth": 0,
             "ticks": ""
            },
            "colorscale": [
             [
              0,
              "#0d0887"
             ],
             [
              0.1111111111111111,
              "#46039f"
             ],
             [
              0.2222222222222222,
              "#7201a8"
             ],
             [
              0.3333333333333333,
              "#9c179e"
             ],
             [
              0.4444444444444444,
              "#bd3786"
             ],
             [
              0.5555555555555556,
              "#d8576b"
             ],
             [
              0.6666666666666666,
              "#ed7953"
             ],
             [
              0.7777777777777778,
              "#fb9f3a"
             ],
             [
              0.8888888888888888,
              "#fdca26"
             ],
             [
              1,
              "#f0f921"
             ]
            ],
            "type": "histogram2dcontour"
           }
          ],
          "mesh3d": [
           {
            "colorbar": {
             "outlinewidth": 0,
             "ticks": ""
            },
            "type": "mesh3d"
           }
          ],
          "parcoords": [
           {
            "line": {
             "colorbar": {
              "outlinewidth": 0,
              "ticks": ""
             }
            },
            "type": "parcoords"
           }
          ],
          "pie": [
           {
            "automargin": true,
            "type": "pie"
           }
          ],
          "scatter": [
           {
            "fillpattern": {
             "fillmode": "overlay",
             "size": 10,
             "solidity": 0.2
            },
            "type": "scatter"
           }
          ],
          "scatter3d": [
           {
            "line": {
             "colorbar": {
              "outlinewidth": 0,
              "ticks": ""
             }
            },
            "marker": {
             "colorbar": {
              "outlinewidth": 0,
              "ticks": ""
             }
            },
            "type": "scatter3d"
           }
          ],
          "scattercarpet": [
           {
            "marker": {
             "colorbar": {
              "outlinewidth": 0,
              "ticks": ""
             }
            },
            "type": "scattercarpet"
           }
          ],
          "scattergeo": [
           {
            "marker": {
             "colorbar": {
              "outlinewidth": 0,
              "ticks": ""
             }
            },
            "type": "scattergeo"
           }
          ],
          "scattergl": [
           {
            "marker": {
             "colorbar": {
              "outlinewidth": 0,
              "ticks": ""
             }
            },
            "type": "scattergl"
           }
          ],
          "scattermapbox": [
           {
            "marker": {
             "colorbar": {
              "outlinewidth": 0,
              "ticks": ""
             }
            },
            "type": "scattermapbox"
           }
          ],
          "scatterpolar": [
           {
            "marker": {
             "colorbar": {
              "outlinewidth": 0,
              "ticks": ""
             }
            },
            "type": "scatterpolar"
           }
          ],
          "scatterpolargl": [
           {
            "marker": {
             "colorbar": {
              "outlinewidth": 0,
              "ticks": ""
             }
            },
            "type": "scatterpolargl"
           }
          ],
          "scatterternary": [
           {
            "marker": {
             "colorbar": {
              "outlinewidth": 0,
              "ticks": ""
             }
            },
            "type": "scatterternary"
           }
          ],
          "surface": [
           {
            "colorbar": {
             "outlinewidth": 0,
             "ticks": ""
            },
            "colorscale": [
             [
              0,
              "#0d0887"
             ],
             [
              0.1111111111111111,
              "#46039f"
             ],
             [
              0.2222222222222222,
              "#7201a8"
             ],
             [
              0.3333333333333333,
              "#9c179e"
             ],
             [
              0.4444444444444444,
              "#bd3786"
             ],
             [
              0.5555555555555556,
              "#d8576b"
             ],
             [
              0.6666666666666666,
              "#ed7953"
             ],
             [
              0.7777777777777778,
              "#fb9f3a"
             ],
             [
              0.8888888888888888,
              "#fdca26"
             ],
             [
              1,
              "#f0f921"
             ]
            ],
            "type": "surface"
           }
          ],
          "table": [
           {
            "cells": {
             "fill": {
              "color": "#EBF0F8"
             },
             "line": {
              "color": "white"
             }
            },
            "header": {
             "fill": {
              "color": "#C8D4E3"
             },
             "line": {
              "color": "white"
             }
            },
            "type": "table"
           }
          ]
         },
         "layout": {
          "annotationdefaults": {
           "arrowcolor": "#2a3f5f",
           "arrowhead": 0,
           "arrowwidth": 1
          },
          "autotypenumbers": "strict",
          "coloraxis": {
           "colorbar": {
            "outlinewidth": 0,
            "ticks": ""
           }
          },
          "colorscale": {
           "diverging": [
            [
             0,
             "#8e0152"
            ],
            [
             0.1,
             "#c51b7d"
            ],
            [
             0.2,
             "#de77ae"
            ],
            [
             0.3,
             "#f1b6da"
            ],
            [
             0.4,
             "#fde0ef"
            ],
            [
             0.5,
             "#f7f7f7"
            ],
            [
             0.6,
             "#e6f5d0"
            ],
            [
             0.7,
             "#b8e186"
            ],
            [
             0.8,
             "#7fbc41"
            ],
            [
             0.9,
             "#4d9221"
            ],
            [
             1,
             "#276419"
            ]
           ],
           "sequential": [
            [
             0,
             "#0d0887"
            ],
            [
             0.1111111111111111,
             "#46039f"
            ],
            [
             0.2222222222222222,
             "#7201a8"
            ],
            [
             0.3333333333333333,
             "#9c179e"
            ],
            [
             0.4444444444444444,
             "#bd3786"
            ],
            [
             0.5555555555555556,
             "#d8576b"
            ],
            [
             0.6666666666666666,
             "#ed7953"
            ],
            [
             0.7777777777777778,
             "#fb9f3a"
            ],
            [
             0.8888888888888888,
             "#fdca26"
            ],
            [
             1,
             "#f0f921"
            ]
           ],
           "sequentialminus": [
            [
             0,
             "#0d0887"
            ],
            [
             0.1111111111111111,
             "#46039f"
            ],
            [
             0.2222222222222222,
             "#7201a8"
            ],
            [
             0.3333333333333333,
             "#9c179e"
            ],
            [
             0.4444444444444444,
             "#bd3786"
            ],
            [
             0.5555555555555556,
             "#d8576b"
            ],
            [
             0.6666666666666666,
             "#ed7953"
            ],
            [
             0.7777777777777778,
             "#fb9f3a"
            ],
            [
             0.8888888888888888,
             "#fdca26"
            ],
            [
             1,
             "#f0f921"
            ]
           ]
          },
          "colorway": [
           "#636efa",
           "#EF553B",
           "#00cc96",
           "#ab63fa",
           "#FFA15A",
           "#19d3f3",
           "#FF6692",
           "#B6E880",
           "#FF97FF",
           "#FECB52"
          ],
          "font": {
           "color": "#2a3f5f"
          },
          "geo": {
           "bgcolor": "white",
           "lakecolor": "white",
           "landcolor": "#E5ECF6",
           "showlakes": true,
           "showland": true,
           "subunitcolor": "white"
          },
          "hoverlabel": {
           "align": "left"
          },
          "hovermode": "closest",
          "mapbox": {
           "style": "light"
          },
          "paper_bgcolor": "white",
          "plot_bgcolor": "#E5ECF6",
          "polar": {
           "angularaxis": {
            "gridcolor": "white",
            "linecolor": "white",
            "ticks": ""
           },
           "bgcolor": "#E5ECF6",
           "radialaxis": {
            "gridcolor": "white",
            "linecolor": "white",
            "ticks": ""
           }
          },
          "scene": {
           "xaxis": {
            "backgroundcolor": "#E5ECF6",
            "gridcolor": "white",
            "gridwidth": 2,
            "linecolor": "white",
            "showbackground": true,
            "ticks": "",
            "zerolinecolor": "white"
           },
           "yaxis": {
            "backgroundcolor": "#E5ECF6",
            "gridcolor": "white",
            "gridwidth": 2,
            "linecolor": "white",
            "showbackground": true,
            "ticks": "",
            "zerolinecolor": "white"
           },
           "zaxis": {
            "backgroundcolor": "#E5ECF6",
            "gridcolor": "white",
            "gridwidth": 2,
            "linecolor": "white",
            "showbackground": true,
            "ticks": "",
            "zerolinecolor": "white"
           }
          },
          "shapedefaults": {
           "line": {
            "color": "#2a3f5f"
           }
          },
          "ternary": {
           "aaxis": {
            "gridcolor": "white",
            "linecolor": "white",
            "ticks": ""
           },
           "baxis": {
            "gridcolor": "white",
            "linecolor": "white",
            "ticks": ""
           },
           "bgcolor": "#E5ECF6",
           "caxis": {
            "gridcolor": "white",
            "linecolor": "white",
            "ticks": ""
           }
          },
          "title": {
           "x": 0.05
          },
          "xaxis": {
           "automargin": true,
           "gridcolor": "white",
           "linecolor": "white",
           "ticks": "",
           "title": {
            "standoff": 15
           },
           "zerolinecolor": "white",
           "zerolinewidth": 2
          },
          "yaxis": {
           "automargin": true,
           "gridcolor": "white",
           "linecolor": "white",
           "ticks": "",
           "title": {
            "standoff": 15
           },
           "zerolinecolor": "white",
           "zerolinewidth": 2
          }
         }
        },
        "title": {
         "text": "Payload vs Launch Site"
        },
        "width": 900,
        "xaxis": {
         "anchor": "y",
         "categoryarray": [
          "CCAFS SLC 40",
          "VAFB SLC 4E",
          "KSC LC 39A"
         ],
         "categoryorder": "array",
         "domain": [
          0,
          1
         ],
         "title": {
          "text": "LaunchSite"
         }
        },
        "yaxis": {
         "anchor": "x",
         "domain": [
          0,
          1
         ],
         "title": {
          "text": "PayloadMass"
         }
        }
       }
      }
     },
     "metadata": {},
     "output_type": "display_data"
    }
   ],
   "source": [
    "#Time for data visualisation\n",
    "#DATA WANGLING OR I SHOULD SAY CLEANING\n",
    "import pandas as pd\n",
    "import plotly.express as ex\n",
    "import numpy as np\n",
    "import numpy as np\n",
    "import pandas as pd\n",
    "import matplotlib.pyplot as plt\n",
    "from sklearn.datasets import load_iris\n",
    "from sklearn.model_selection import train_test_split, GridSearchCV, cross_val_score, StratifiedKFold\n",
    "from sklearn.preprocessing import StandardScaler, OneHotEncoder\n",
    "from sklearn.decomposition import PCA\n",
    "from sklearn.neighbors import KNeighborsClassifier\n",
    "from sklearn.pipeline import Pipeline\n",
    "import seaborn as sns\n",
    "from sklearn.compose import ColumnTransformer\n",
    "from sklearn.impute import SimpleImputer\n",
    "from sklearn.ensemble import RandomForestClassifier\n",
    "from sklearn.linear_model import LogisticRegression\n",
    "from sklearn.metrics import classification_report, confusion_matrix, ConfusionMatrixDisplay\n",
    "\n",
    "# Load the dataset\n",
    "df = pd.read_csv(\"https://cf-courses-data.s3.us.cloud-object-storage.appdomain.cloud/IBM-DS0321EN-SkillsNetwork/datasets/dataset_part_1.csv\")\n",
    "df.dtypes\n",
    "numeric_features =  df.select_dtypes(include=['int64','float64']).columns.tolist()\n",
    "categorial_features = df.select_dtypes(include=['object']).columns.tolist()\n",
    "numeric_transformers = Pipeline(steps=[\n",
    "    ('imputer',SimpleImputer(strategy='median')),\n",
    "])\n",
    "categorical_transformer = Pipeline(steps=[\n",
    "    ('imputer', SimpleImputer(strategy='most_frequent')),\n",
    "])\n",
    "preprocessing = ColumnTransformer(\n",
    "    transformers=[\n",
    "        ('num', numeric_transformers,numeric_features),\n",
    "        ('cat', categorical_transformer,categorial_features)\n",
    "    ]\n",
    ")\n",
    "#Handling the unknown values is done. Time for get back the data\n",
    "preprocesed = preprocessing.fit_transform(df)\n",
    "all_features = numeric_features+categorial_features\n",
    "preprocessed_df = pd.DataFrame(preprocesed, columns=all_features)\n",
    "preprocessed_df['LandingPad'].isnull().sum()\n",
    "preprocessed_df.head()\n",
    "fig = ex.scatter(preprocessed_df, \n",
    "                 x='FlightNumber', \n",
    "                 y='LaunchSite', \n",
    "                 color='LaunchSite',\n",
    "                 title='Flight Number vs Launch Site',\n",
    "                 width=900,\n",
    "                 height=500)\n",
    "\n",
    "fig.show()\n",
    "fig = ex.scatter(df, x='LaunchSite',y='PayloadMass', color='LaunchSite',\n",
    "                 title='Payload vs Launch Site',\n",
    "                 width=900,\n",
    "                 height=500)\n",
    "fig.show()"
   ]
  },
  {
   "cell_type": "code",
   "execution_count": 9,
   "metadata": {},
   "outputs": [
    {
     "name": "stdout",
     "output_type": "stream",
     "text": [
      "Fitting 10 folds for each of 3 candidates, totalling 30 fits\n",
      "[CV] END classifier__C=0.01, classifier__penalty=l2, classifier__solver=lbfgs; total time=   0.1s\n",
      "[CV] END classifier__C=0.01, classifier__penalty=l2, classifier__solver=lbfgs; total time=   0.0s\n",
      "[CV] END classifier__C=0.01, classifier__penalty=l2, classifier__solver=lbfgs; total time=   0.0s\n",
      "[CV] END classifier__C=0.01, classifier__penalty=l2, classifier__solver=lbfgs; total time=   0.0s\n",
      "[CV] END classifier__C=0.01, classifier__penalty=l2, classifier__solver=lbfgs; total time=   0.0s\n",
      "[CV] END classifier__C=0.01, classifier__penalty=l2, classifier__solver=lbfgs; total time=   0.0s\n",
      "[CV] END classifier__C=0.01, classifier__penalty=l2, classifier__solver=lbfgs; total time=   0.0s\n",
      "[CV] END classifier__C=0.01, classifier__penalty=l2, classifier__solver=lbfgs; total time=   0.0s\n",
      "[CV] END classifier__C=0.01, classifier__penalty=l2, classifier__solver=lbfgs; total time=   0.0s\n",
      "[CV] END classifier__C=0.01, classifier__penalty=l2, classifier__solver=lbfgs; total time=   0.0s\n",
      "[CV] END classifier__C=0.1, classifier__penalty=l2, classifier__solver=lbfgs; total time=   0.0s\n",
      "[CV] END classifier__C=0.1, classifier__penalty=l2, classifier__solver=lbfgs; total time=   0.0s\n",
      "[CV] END classifier__C=0.1, classifier__penalty=l2, classifier__solver=lbfgs; total time=   0.0s\n",
      "[CV] END classifier__C=0.1, classifier__penalty=l2, classifier__solver=lbfgs; total time=   0.0s\n"
     ]
    },
    {
     "name": "stderr",
     "output_type": "stream",
     "text": [
      "/Users/prantikroy/data science/.venv/lib/python3.13/site-packages/sklearn/utils/validation.py:1406: DataConversionWarning:\n",
      "\n",
      "A column-vector y was passed when a 1d array was expected. Please change the shape of y to (n_samples, ), for example using ravel().\n",
      "\n",
      "/Users/prantikroy/data science/.venv/lib/python3.13/site-packages/sklearn/utils/validation.py:1406: DataConversionWarning:\n",
      "\n",
      "A column-vector y was passed when a 1d array was expected. Please change the shape of y to (n_samples, ), for example using ravel().\n",
      "\n",
      "/Users/prantikroy/data science/.venv/lib/python3.13/site-packages/sklearn/utils/validation.py:1406: DataConversionWarning:\n",
      "\n",
      "A column-vector y was passed when a 1d array was expected. Please change the shape of y to (n_samples, ), for example using ravel().\n",
      "\n",
      "/Users/prantikroy/data science/.venv/lib/python3.13/site-packages/sklearn/utils/validation.py:1406: DataConversionWarning:\n",
      "\n",
      "A column-vector y was passed when a 1d array was expected. Please change the shape of y to (n_samples, ), for example using ravel().\n",
      "\n",
      "/Users/prantikroy/data science/.venv/lib/python3.13/site-packages/sklearn/utils/validation.py:1406: DataConversionWarning:\n",
      "\n",
      "A column-vector y was passed when a 1d array was expected. Please change the shape of y to (n_samples, ), for example using ravel().\n",
      "\n",
      "/Users/prantikroy/data science/.venv/lib/python3.13/site-packages/sklearn/utils/validation.py:1406: DataConversionWarning:\n",
      "\n",
      "A column-vector y was passed when a 1d array was expected. Please change the shape of y to (n_samples, ), for example using ravel().\n",
      "\n",
      "/Users/prantikroy/data science/.venv/lib/python3.13/site-packages/sklearn/utils/validation.py:1406: DataConversionWarning:\n",
      "\n",
      "A column-vector y was passed when a 1d array was expected. Please change the shape of y to (n_samples, ), for example using ravel().\n",
      "\n",
      "/Users/prantikroy/data science/.venv/lib/python3.13/site-packages/sklearn/utils/validation.py:1406: DataConversionWarning:\n",
      "\n",
      "A column-vector y was passed when a 1d array was expected. Please change the shape of y to (n_samples, ), for example using ravel().\n",
      "\n",
      "/Users/prantikroy/data science/.venv/lib/python3.13/site-packages/sklearn/utils/validation.py:1406: DataConversionWarning:\n",
      "\n",
      "A column-vector y was passed when a 1d array was expected. Please change the shape of y to (n_samples, ), for example using ravel().\n",
      "\n",
      "/Users/prantikroy/data science/.venv/lib/python3.13/site-packages/sklearn/utils/validation.py:1406: DataConversionWarning:\n",
      "\n",
      "A column-vector y was passed when a 1d array was expected. Please change the shape of y to (n_samples, ), for example using ravel().\n",
      "\n",
      "/Users/prantikroy/data science/.venv/lib/python3.13/site-packages/sklearn/utils/validation.py:1406: DataConversionWarning:\n",
      "\n",
      "A column-vector y was passed when a 1d array was expected. Please change the shape of y to (n_samples, ), for example using ravel().\n",
      "\n",
      "/Users/prantikroy/data science/.venv/lib/python3.13/site-packages/sklearn/utils/validation.py:1406: DataConversionWarning:\n",
      "\n",
      "A column-vector y was passed when a 1d array was expected. Please change the shape of y to (n_samples, ), for example using ravel().\n",
      "\n",
      "/Users/prantikroy/data science/.venv/lib/python3.13/site-packages/sklearn/utils/validation.py:1406: DataConversionWarning:\n",
      "\n",
      "A column-vector y was passed when a 1d array was expected. Please change the shape of y to (n_samples, ), for example using ravel().\n",
      "\n",
      "/Users/prantikroy/data science/.venv/lib/python3.13/site-packages/sklearn/utils/validation.py:1406: DataConversionWarning:\n",
      "\n",
      "A column-vector y was passed when a 1d array was expected. Please change the shape of y to (n_samples, ), for example using ravel().\n",
      "\n",
      "/Users/prantikroy/data science/.venv/lib/python3.13/site-packages/sklearn/utils/validation.py:1406: DataConversionWarning:\n",
      "\n",
      "A column-vector y was passed when a 1d array was expected. Please change the shape of y to (n_samples, ), for example using ravel().\n",
      "\n",
      "/Users/prantikroy/data science/.venv/lib/python3.13/site-packages/sklearn/utils/validation.py:1406: DataConversionWarning:\n",
      "\n",
      "A column-vector y was passed when a 1d array was expected. Please change the shape of y to (n_samples, ), for example using ravel().\n",
      "\n"
     ]
    },
    {
     "name": "stdout",
     "output_type": "stream",
     "text": [
      "[CV] END classifier__C=0.1, classifier__penalty=l2, classifier__solver=lbfgs; total time=   0.0s\n",
      "[CV] END classifier__C=0.1, classifier__penalty=l2, classifier__solver=lbfgs; total time=   0.0s\n",
      "[CV] END classifier__C=0.1, classifier__penalty=l2, classifier__solver=lbfgs; total time=   0.0s\n",
      "[CV] END classifier__C=0.1, classifier__penalty=l2, classifier__solver=lbfgs; total time=   0.0s\n",
      "[CV] END classifier__C=0.1, classifier__penalty=l2, classifier__solver=lbfgs; total time=   0.0s\n",
      "[CV] END classifier__C=0.1, classifier__penalty=l2, classifier__solver=lbfgs; total time=   0.0s\n",
      "[CV] END classifier__C=1, classifier__penalty=l2, classifier__solver=lbfgs; total time=   0.0s\n",
      "[CV] END classifier__C=1, classifier__penalty=l2, classifier__solver=lbfgs; total time=   0.0s\n",
      "[CV] END classifier__C=1, classifier__penalty=l2, classifier__solver=lbfgs; total time=   0.0s\n",
      "[CV] END classifier__C=1, classifier__penalty=l2, classifier__solver=lbfgs; total time=   0.0s\n",
      "[CV] END classifier__C=1, classifier__penalty=l2, classifier__solver=lbfgs; total time=   0.0s\n",
      "[CV] END classifier__C=1, classifier__penalty=l2, classifier__solver=lbfgs; total time=   0.0s\n",
      "[CV] END classifier__C=1, classifier__penalty=l2, classifier__solver=lbfgs; total time=   0.0s\n",
      "[CV] END classifier__C=1, classifier__penalty=l2, classifier__solver=lbfgs; total time=   0.0s\n",
      "[CV] END classifier__C=1, classifier__penalty=l2, classifier__solver=lbfgs; total time=   0.0s\n",
      "[CV] END classifier__C=1, classifier__penalty=l2, classifier__solver=lbfgs; total time=   0.0s\n",
      "              precision    recall  f1-score   support\n",
      "\n",
      "           0       1.00      1.00      1.00         6\n",
      "           1       1.00      1.00      1.00        12\n",
      "\n",
      "    accuracy                           1.00        18\n",
      "   macro avg       1.00      1.00      1.00        18\n",
      "weighted avg       1.00      1.00      1.00        18\n",
      "\n",
      "0.9303571428571429\n",
      "the best parameter is {'classifier__C': 1, 'classifier__penalty': 'l2', 'classifier__solver': 'lbfgs'}\n"
     ]
    },
    {
     "name": "stderr",
     "output_type": "stream",
     "text": [
      "/Users/prantikroy/data science/.venv/lib/python3.13/site-packages/sklearn/utils/validation.py:1406: DataConversionWarning:\n",
      "\n",
      "A column-vector y was passed when a 1d array was expected. Please change the shape of y to (n_samples, ), for example using ravel().\n",
      "\n",
      "/Users/prantikroy/data science/.venv/lib/python3.13/site-packages/sklearn/utils/validation.py:1406: DataConversionWarning:\n",
      "\n",
      "A column-vector y was passed when a 1d array was expected. Please change the shape of y to (n_samples, ), for example using ravel().\n",
      "\n",
      "/Users/prantikroy/data science/.venv/lib/python3.13/site-packages/sklearn/utils/validation.py:1406: DataConversionWarning:\n",
      "\n",
      "A column-vector y was passed when a 1d array was expected. Please change the shape of y to (n_samples, ), for example using ravel().\n",
      "\n",
      "/Users/prantikroy/data science/.venv/lib/python3.13/site-packages/sklearn/utils/validation.py:1406: DataConversionWarning:\n",
      "\n",
      "A column-vector y was passed when a 1d array was expected. Please change the shape of y to (n_samples, ), for example using ravel().\n",
      "\n",
      "/Users/prantikroy/data science/.venv/lib/python3.13/site-packages/sklearn/utils/validation.py:1406: DataConversionWarning:\n",
      "\n",
      "A column-vector y was passed when a 1d array was expected. Please change the shape of y to (n_samples, ), for example using ravel().\n",
      "\n",
      "/Users/prantikroy/data science/.venv/lib/python3.13/site-packages/sklearn/utils/validation.py:1406: DataConversionWarning:\n",
      "\n",
      "A column-vector y was passed when a 1d array was expected. Please change the shape of y to (n_samples, ), for example using ravel().\n",
      "\n",
      "/Users/prantikroy/data science/.venv/lib/python3.13/site-packages/sklearn/utils/validation.py:1406: DataConversionWarning:\n",
      "\n",
      "A column-vector y was passed when a 1d array was expected. Please change the shape of y to (n_samples, ), for example using ravel().\n",
      "\n",
      "/Users/prantikroy/data science/.venv/lib/python3.13/site-packages/sklearn/utils/validation.py:1406: DataConversionWarning:\n",
      "\n",
      "A column-vector y was passed when a 1d array was expected. Please change the shape of y to (n_samples, ), for example using ravel().\n",
      "\n",
      "/Users/prantikroy/data science/.venv/lib/python3.13/site-packages/sklearn/utils/validation.py:1406: DataConversionWarning:\n",
      "\n",
      "A column-vector y was passed when a 1d array was expected. Please change the shape of y to (n_samples, ), for example using ravel().\n",
      "\n",
      "/Users/prantikroy/data science/.venv/lib/python3.13/site-packages/sklearn/utils/validation.py:1406: DataConversionWarning:\n",
      "\n",
      "A column-vector y was passed when a 1d array was expected. Please change the shape of y to (n_samples, ), for example using ravel().\n",
      "\n",
      "/Users/prantikroy/data science/.venv/lib/python3.13/site-packages/sklearn/utils/validation.py:1406: DataConversionWarning:\n",
      "\n",
      "A column-vector y was passed when a 1d array was expected. Please change the shape of y to (n_samples, ), for example using ravel().\n",
      "\n",
      "/Users/prantikroy/data science/.venv/lib/python3.13/site-packages/sklearn/utils/validation.py:1406: DataConversionWarning:\n",
      "\n",
      "A column-vector y was passed when a 1d array was expected. Please change the shape of y to (n_samples, ), for example using ravel().\n",
      "\n",
      "/Users/prantikroy/data science/.venv/lib/python3.13/site-packages/sklearn/utils/validation.py:1406: DataConversionWarning:\n",
      "\n",
      "A column-vector y was passed when a 1d array was expected. Please change the shape of y to (n_samples, ), for example using ravel().\n",
      "\n",
      "/Users/prantikroy/data science/.venv/lib/python3.13/site-packages/sklearn/utils/validation.py:1406: DataConversionWarning:\n",
      "\n",
      "A column-vector y was passed when a 1d array was expected. Please change the shape of y to (n_samples, ), for example using ravel().\n",
      "\n",
      "/Users/prantikroy/data science/.venv/lib/python3.13/site-packages/sklearn/utils/validation.py:1406: DataConversionWarning:\n",
      "\n",
      "A column-vector y was passed when a 1d array was expected. Please change the shape of y to (n_samples, ), for example using ravel().\n",
      "\n"
     ]
    },
    {
     "data": {
      "image/png": "[encoded data removed]",
      "text/plain": [
       "<Figure size 640x480 with 2 Axes>"
      ]
     },
     "metadata": {},
     "output_type": "display_data"
    }
   ],
   "source": [
    "import numpy as np\n",
    "import pandas as pd\n",
    "import matplotlib.pyplot as plt\n",
    "from sklearn.datasets import load_iris\n",
    "from sklearn.model_selection import train_test_split, GridSearchCV, cross_val_score, StratifiedKFold\n",
    "from sklearn.preprocessing import StandardScaler, OneHotEncoder\n",
    "from sklearn.decomposition import PCA\n",
    "from sklearn.neighbors import KNeighborsClassifier\n",
    "from sklearn.pipeline import Pipeline\n",
    "import seaborn as sns\n",
    "from sklearn.compose import ColumnTransformer\n",
    "from sklearn.impute import SimpleImputer\n",
    "from sklearn.ensemble import RandomForestClassifier\n",
    "from sklearn.linear_model import LogisticRegression\n",
    "from sklearn.metrics import classification_report, confusion_matrix, ConfusionMatrixDisplay\n",
    "\n",
    "URL1 = \"https://cf-courses-data.s3.us.cloud-object-storage.appdomain.cloud/IBM-DS0321EN-SkillsNetwork/datasets/dataset_part_2.csv\"\n",
    "df = pd.read_csv(URL1)\n",
    "features = ['PayloadMass','Date', 'LaunchSite', 'Outcome', 'Serial', 'Longitude','Latitude']\n",
    "target = ['Class']\n",
    "y = df[target]\n",
    "x = df[features]\n",
    "x_train,x_test,y_train,y_test = train_test_split(x,y,test_size=0.2,stratify=y, random_state=42)\n",
    "numeric_feature = x_train.select_dtypes(include = ['number']).columns.tolist()\n",
    "categorial_featuer = x_train.select_dtypes(include=['object','category']).columns.tolist()\n",
    "numeric_transfomers = Pipeline(steps=[\n",
    "    ('Imputer', SimpleImputer(strategy='median')),\n",
    "    ('scaler', StandardScaler())\n",
    "])\n",
    "categorial_transformers = Pipeline(steps=[\n",
    "    ('imputer', SimpleImputer(strategy='most_frequent')),\n",
    "    ('onehot',OneHotEncoder(handle_unknown='ignore'))\n",
    "])\n",
    "preprocessing = ColumnTransformer(\n",
    "    transformers=[\n",
    "        ('num', numeric_transfomers,numeric_feature),\n",
    "        ('cat', categorial_transformers,categorial_featuer)\n",
    "    ]\n",
    ")\n",
    "pipeline = Pipeline(steps=[\n",
    "    ('preprocessing', preprocessing),\n",
    "    ('classifier', LogisticRegression())\n",
    "])\n",
    "param_grid = {\n",
    "    'classifier__C': [0.01, 0.1, 1],\n",
    "    'classifier__penalty': ['l2'],\n",
    "    'classifier__solver': ['lbfgs']\n",
    "}\n",
    "\n",
    "cv = StratifiedKFold(n_splits=10, shuffle=True)\n",
    "logreg_cv = GridSearchCV(estimator=pipeline,param_grid=param_grid,cv=cv, scoring='accuracy', verbose=2)\n",
    "logreg_cv.fit(x_train,y_train)\n",
    "y_pred = logreg_cv.predict(x_test)\n",
    "print(classification_report(y_test,y_pred))\n",
    "best_score = logreg_cv.best_score_\n",
    "print(best_score)\n",
    "best_param = logreg_cv.best_params_\n",
    "print(f'the best parameter is {best_param}')\n",
    "cm = confusion_matrix(y_test, y_pred)\n",
    "\n",
    "# Display it\n",
    "disp = ConfusionMatrixDisplay(confusion_matrix=cm, display_labels=logreg_cv.classes_)\n",
    "disp.plot(cmap='Blues')\n",
    "plt.title(\"Confusion Matrix - Random Forest\")\n",
    "plt.show()\n",
    "\n"
   ]
  },
  {
   "cell_type": "code",
   "execution_count": null,
   "metadata": {},
   "outputs": [],
   "source": [
    "import streamlit as st\n",
    "import pandas as pd\n",
    "import plotly.express as px\n",
    "\n",
    "# PAGE CONFIG\n",
    "st.set_page_config(page_title=\"🚀 SpaceX Launch Dashboard\", layout=\"wide\", page_icon=\"🛰️\")\n",
    "\n",
    "# CUSTOM CSS\n",
    "st.markdown(\"\"\"\n",
    "    <style>\n",
    "    html, body, [class*=\"css\"] {\n",
    "        font-family: 'Roboto', sans-serif;\n",
    "        background-color: #FFFFFF;\n",
    "        color: #000000 !important;\n",
    "    }\n",
    "    .block-container {\n",
    "        padding-top: 2rem;\n",
    "        padding-bottom: 2rem;\n",
    "    }\n",
    "    </style>\n",
    "\"\"\", unsafe_allow_html=True)\n",
    "\n",
    "# LOAD DATA\n",
    "@st.cache_data\n",
    "def load_data():\n",
    "    url = \"https://cf-courses-data.s3.us.cloud-object-storage.appdomain.cloud/IBM-DS0321EN-SkillsNetwork/datasets/spacex_launch_dash.csv\"\n",
    "    df = pd.read_csv(url)\n",
    "    return df\n",
    "\n",
    "df = load_data()\n",
    "\n",
    "# HEADER\n",
    "st.title(\"🛰️ SpaceX Launch Dashboard\")\n",
    "st.markdown(\"Analyze SpaceX Launch Performance with Interactive Visualizations\")\n",
    "\n",
    "# SIDEBAR\n",
    "st.sidebar.header(\"Filters\")\n",
    "\n",
    "# Dropdown for Launch Site\n",
    "launch_sites = df['Launch Site'].unique().tolist()\n",
    "launch_sites.insert(0, 'ALL')\n",
    "selected_site = st.sidebar.selectbox(\"Select Launch Site:\", launch_sites)\n",
    "\n",
    "# Payload Slider\n",
    "min_payload = df['Payload Mass (kg)'].min()\n",
    "max_payload = df['Payload Mass (kg)'].max()\n",
    "payload_range = st.sidebar.slider(\"Payload Range (kg):\", float(min_payload), float(max_payload), (float(min_payload), float(max_payload)))\n",
    "\n",
    "# PIE CHART\n",
    "st.subheader(\"Launch Success Rate\")\n",
    "\n",
    "if selected_site == 'ALL':\n",
    "    pie_data = df.groupby('Launch Site')['class'].sum().reset_index()\n",
    "    fig_pie = px.pie(pie_data, values='class', names='Launch Site', title='Total Successful Launches by Site')\n",
    "else:\n",
    "    site_data = df[df['Launch Site'] == selected_site]\n",
    "    site_success = site_data['class'].value_counts().reset_index()\n",
    "    site_success.columns = ['Outcome', 'Count']\n",
    "    fig_pie = px.pie(site_success, values='Count', names='Outcome', title=f'Success vs Failure: {selected_site}')\n",
    "\n",
    "st.plotly_chart(fig_pie, use_container_width=True)\n",
    "\n",
    "# SCATTER PLOT\n",
    "st.subheader(\"Payload vs. Success Correlation\")\n",
    "\n",
    "filtered_df = df[(df['Payload Mass (kg)'] >= payload_range[0]) & (df['Payload Mass (kg)'] <= payload_range[1])]\n",
    "\n",
    "if selected_site != 'ALL':\n",
    "    filtered_df = filtered_df[filtered_df['Launch Site'] == selected_site]\n",
    "\n",
    "fig_scatter = px.scatter(filtered_df, x='Payload Mass (kg)', y='class', color='Booster Version Category',\n",
    "                         title='Payload Mass vs. Launch Success', template='plotly_white')\n",
    "\n",
    "st.plotly_chart(fig_scatter, use_container_width=True)\n",
    "\n",
    "st.markdown(\"---\")\n",
    "st.markdown(\"Crafted with ❤️ using Streamlit + Plotly + SpaceX Dataset 🚀\")\n"
   ]
  }
 ],
 "metadata": {
  "kernelspec": {
   "display_name": ".venv",
   "language": "python",
   "name": "python3"
  },
  "language_info": {
   "codemirror_mode": {
    "name": "ipython",
    "version": 3
   },
   "file_extension": ".py",
   "mimetype": "text/x-python",
   "name": "python",
   "nbconvert_exporter": "python",
   "pygments_lexer": "ipython3",
   "version": "3.13.3"
  }
 },
 "nbformat": 4,
 "nbformat_minor": 2
}
