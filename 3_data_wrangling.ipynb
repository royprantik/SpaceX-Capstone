{
 "cells": [
  {
   "cell_type": "code",
   "execution_count": 9,
   "metadata": {},
   "outputs": [
    {
     "name": "stdout",
     "output_type": "stream",
     "text": [
      "0\n"
     ]
    }
   ],
   "source": [
    "import numpy as np\n",
    "import pandas as pd\n",
    "import matplotlib.pyplot as plt\n",
    "import seaborn as sns\n",
    "\n",
    "from sklearn.model_selection import train_test_split, GridSearchCV, StratifiedKFold\n",
    "from sklearn.pipeline import Pipeline\n",
    "from sklearn.compose import ColumnTransformer\n",
    "from sklearn.impute import SimpleImputer\n",
    "from sklearn.preprocessing import StandardScaler, OneHotEncoder\n",
    "from sklearn.ensemble import RandomForestClassifier\n",
    "from sklearn.metrics import classification_report, confusion_matrix, ConfusionMatrixDisplay\n",
    "\n",
    "df = pd.read_csv(\"https://cf-courses-data.s3.us.cloud-object-storage.appdomain.cloud/IBM-DS0321EN-SkillsNetwork/datasets/dataset_part_1.csv\")\n",
    "numeric_features = df.select_dtypes(include=['int64','float64']).columns.tolist()\n",
    "categorial_feature = df.select_dtypes(include=['object']).columns.tolist()\n",
    "categorial_transformer = Pipeline(steps=[\n",
    "    ('imputer', SimpleImputer(strategy='most_frequent')),\n",
    "    ('onehot', OneHotEncoder(handle_unknown='ignore'))\n",
    "])\n",
    "numerical_transfomers = Pipeline(steps=[\n",
    "    ('imputer', SimpleImputer(strategy='median')),\n",
    "    ('scaler', StandardScaler())\n",
    "])\n",
    "preprocessing = ColumnTransformer(transformers=[\n",
    "    ('cat',categorial_transformer,categorial_feature),\n",
    "    ('num', numerical_transfomers,numeric_features)\n",
    "])\n",
    "# Apply the preprocessing transformer\n",
    "X_transformed = preprocessing.fit_transform(df)\n",
    "\n",
    "# Get feature names from both transformers\n",
    "cat_feature_names = preprocessing.named_transformers_['cat'].named_steps['onehot'].get_feature_names_out(categorial_feature)\n",
    "all_feature_names = numeric_features + list(cat_feature_names)\n",
    "\n",
    "# Convert to DataFrame\n",
    "# If X_transformed is sparse (which OneHotEncoder returns by default), use .toarray()\n",
    "X_df = pd.DataFrame(X_transformed.toarray(), columns=all_feature_names)\n",
    "\n",
    "# Optional: Preview the cleaned dataset\n",
    "print(X_df.isnull().sum().sum())\n",
    "\n",
    "\n",
    "\n"
   ]
  }
 ],
 "metadata": {
  "kernelspec": {
   "display_name": ".venv",
   "language": "python",
   "name": "python3"
  },
  "language_info": {
   "codemirror_mode": {
    "name": "ipython",
    "version": 3
   },
   "file_extension": ".py",
   "mimetype": "text/x-python",
   "name": "python",
   "nbconvert_exporter": "python",
   "pygments_lexer": "ipython3",
   "version": "3.13.3"
  }
 },
 "nbformat": 4,
 "nbformat_minor": 2
}
